{
  "nbformat": 4,
  "nbformat_minor": 0,
  "metadata": {
    "colab": {
      "name": "Rel_petro.ipynb",
      "provenance": [],
      "include_colab_link": true
    },
    "kernelspec": {
      "name": "python3",
      "display_name": "Python 3"
    },
    "language_info": {
      "name": "python"
    }
  },
  "cells": [
    {
      "cell_type": "markdown",
      "metadata": {
        "id": "view-in-github",
        "colab_type": "text"
      },
      "source": [
        "<a href=\"https://colab.research.google.com/github/ricardocatelli/petro/blob/main/Rel_petro.ipynb\" target=\"_parent\"><img src=\"https://colab.research.google.com/assets/colab-badge.svg\" alt=\"Open In Colab\"/></a>"
      ]
    },
    {
      "cell_type": "markdown",
      "source": [
        "***\n",
        "# <font color=green size=10>Agência Nacional do Petróleo, Gás Natural e Biocombustíveis - ANP</font>\n",
        "***"
      ],
      "metadata": {
        "id": "rwReHmtDKe0Z"
      }
    },
    {
      "cell_type": "markdown",
      "source": [
        "**ANP** é um centro de referência em dados e informações sobre a indústria de petróleo e gás natural:\n",
        "\n",
        "- mantém o Banco de Dados de Exploração e Produção (BDEP);\n",
        "- promove estudos sobre o potencial petrolífero e o desenvolvimento do setor;\n",
        "- recebe e torna públicas as notificações de descobertas;\n",
        "- divulga as estatísticas oficiais sobre reservas, refino e produção de petróleo, gás e biocombustíveis no Brasil.\n",
        "\n",
        "Também realiza e divulga rotineiramente pesquisas sobre qualidade dos combustíveis e lubrificantes e sobre o comportamento dos preços desses produtos. Consolida e divulga informações sobre os mercados regulados e acerca dos investimentos em pesquisa, inovação e formação profissional voltadas para os setores regulados."
      ],
      "metadata": {
        "id": "OSL8mv1JKl-m"
      }
    },
    {
      "cell_type": "markdown",
      "source": [
        "***\n",
        "## <font color = green size = 6>Anuário Estatístico 2020</font>\n",
        "***\n"
      ],
      "metadata": {
        "id": "tbJgKzUTLl_Z"
      }
    },
    {
      "cell_type": "markdown",
      "source": [
        "O Anuário Estatístico Brasileiro do Petróleo, Gás Natural e Biocombustíveis 2020 consolida os dados referentes ao desempenho da indústria do petróleo, gás natural e biocombustíveis e do sistema de abastecimento nacionais no período 2010-2019. Estão disponíveis para consulta e download as tabelas integrantes do Anuário 2020 representadas em formato de dados abertos.\n",
        "\n",
        "https://www.gov.br/anp/pt-br/centrais-de-conteudo/dados-abertos/arquivos/anuario-estatistico-2020/secao-1/anuario-abertos-metadados-tabela1-2-convertido.pdf"
      ],
      "metadata": {
        "id": "SBky4PM5LqZM"
      }
    },
    {
      "cell_type": "code",
      "execution_count": 38,
      "metadata": {
        "id": "20UANc46GgWg"
      },
      "outputs": [],
      "source": [
        "import pandas  as pd\n",
        "import numpy   as np\n",
        "import seaborn as sn"
      ]
    },
    {
      "cell_type": "code",
      "source": [
        "url = 'https://raw.githubusercontent.com/ricardocatelli/petro/main/anuario-2020-abertos-tabela1-2.csv'"
      ],
      "metadata": {
        "id": "iNwh68BZLpam"
      },
      "execution_count": 39,
      "outputs": []
    },
    {
      "cell_type": "code",
      "source": [
        "dados = pd.read_csv(url, sep = ';', decimal = ',')"
      ],
      "metadata": {
        "id": "tPgYmKdqNvJk"
      },
      "execution_count": 52,
      "outputs": []
    },
    {
      "cell_type": "code",
      "source": [
        "dados.columns = ['Bloco Econômico', 'Região Geográfica', 'País', 'Produção em mil barris/dia', 'Ano']\n",
        "dados.head()"
      ],
      "metadata": {
        "colab": {
          "base_uri": "https://localhost:8080/",
          "height": 206
        },
        "id": "xkLLGfMJT9vq",
        "outputId": "2903179b-a2ee-455c-88c9-9bc29e7353d7"
      },
      "execution_count": 53,
      "outputs": [
        {
          "output_type": "execute_result",
          "data": {
            "text/html": [
              "<div>\n",
              "<style scoped>\n",
              "    .dataframe tbody tr th:only-of-type {\n",
              "        vertical-align: middle;\n",
              "    }\n",
              "\n",
              "    .dataframe tbody tr th {\n",
              "        vertical-align: top;\n",
              "    }\n",
              "\n",
              "    .dataframe thead th {\n",
              "        text-align: right;\n",
              "    }\n",
              "</style>\n",
              "<table border=\"1\" class=\"dataframe\">\n",
              "  <thead>\n",
              "    <tr style=\"text-align: right;\">\n",
              "      <th></th>\n",
              "      <th>Bloco Econômico</th>\n",
              "      <th>Região Geográfica</th>\n",
              "      <th>País</th>\n",
              "      <th>Produção em mil barris/dia</th>\n",
              "      <th>Ano</th>\n",
              "    </tr>\n",
              "  </thead>\n",
              "  <tbody>\n",
              "    <tr>\n",
              "      <th>0</th>\n",
              "      <td>NÃO OPEP</td>\n",
              "      <td>América do Norte</td>\n",
              "      <td>Canadá</td>\n",
              "      <td>3456.81</td>\n",
              "      <td>2010</td>\n",
              "    </tr>\n",
              "    <tr>\n",
              "      <th>1</th>\n",
              "      <td>NÃO OPEP</td>\n",
              "      <td>América do Norte</td>\n",
              "      <td>Estados Unidos</td>\n",
              "      <td>7558.37</td>\n",
              "      <td>2010</td>\n",
              "    </tr>\n",
              "    <tr>\n",
              "      <th>2</th>\n",
              "      <td>NÃO OPEP</td>\n",
              "      <td>América do Norte</td>\n",
              "      <td>México</td>\n",
              "      <td>2959.37</td>\n",
              "      <td>2010</td>\n",
              "    </tr>\n",
              "    <tr>\n",
              "      <th>3</th>\n",
              "      <td>NÃO OPEP</td>\n",
              "      <td>Américas Central e do Sul</td>\n",
              "      <td>Argentina</td>\n",
              "      <td>711.84</td>\n",
              "      <td>2010</td>\n",
              "    </tr>\n",
              "    <tr>\n",
              "      <th>4</th>\n",
              "      <td>NÃO OPEP</td>\n",
              "      <td>Américas Central e do Sul</td>\n",
              "      <td>Brasil</td>\n",
              "      <td>2125.05</td>\n",
              "      <td>2010</td>\n",
              "    </tr>\n",
              "  </tbody>\n",
              "</table>\n",
              "</div>"
            ],
            "text/plain": [
              "  Bloco Econômico          Região Geográfica  ... Produção em mil barris/dia   Ano\n",
              "0        NÃO OPEP           América do Norte  ...                    3456.81  2010\n",
              "1        NÃO OPEP           América do Norte  ...                    7558.37  2010\n",
              "2        NÃO OPEP           América do Norte  ...                    2959.37  2010\n",
              "3        NÃO OPEP  Américas Central e do Sul  ...                     711.84  2010\n",
              "4        NÃO OPEP  Américas Central e do Sul  ...                    2125.05  2010\n",
              "\n",
              "[5 rows x 5 columns]"
            ]
          },
          "metadata": {},
          "execution_count": 53
        }
      ]
    },
    {
      "cell_type": "markdown",
      "source": [
        "### Bloco Econômico"
      ],
      "metadata": {
        "id": "RjjVM5quS98x"
      }
    },
    {
      "cell_type": "markdown",
      "source": [
        "O Bloco identifica a qual bloco\n",
        "econômico o país pertence\n",
        "(OPEP ou NÃO OPEP). A OPEP –\n",
        "Organização dos países\n",
        "exportadores de petróleo - é\n",
        "uma organização internacional\n",
        "criada em 1960 na Conferência\n",
        "de Bagdá que visa coordenar de\n",
        "maneira centralizada a política\n",
        "petrolífera dos países membros"
      ],
      "metadata": {
        "id": "vLz5OKrRSX2j"
      }
    },
    {
      "cell_type": "markdown",
      "source": [
        "### Região Geográfica"
      ],
      "metadata": {
        "id": "4M4clxqqUFG9"
      }
    },
    {
      "cell_type": "markdown",
      "source": [
        "Região Geográfica – América do\n",
        "Norte, Américas Central e do Sul,\n",
        "Europa, Comunidade dos Estados\n",
        "Independentes, Oriente Médio,\n",
        "África e Ásia-Pacífico"
      ],
      "metadata": {
        "id": "Z2xU18gGS6qj"
      }
    },
    {
      "cell_type": "markdown",
      "source": [
        "### País"
      ],
      "metadata": {
        "id": "ynC2QOciUbBF"
      }
    },
    {
      "cell_type": "markdown",
      "source": [
        "País produtor de petróleo "
      ],
      "metadata": {
        "id": "qD3GjfhxUd23"
      }
    },
    {
      "cell_type": "markdown",
      "source": [
        "### Produção em mil barris/dia"
      ],
      "metadata": {
        "id": "SmgItq1lUiTj"
      }
    },
    {
      "cell_type": "markdown",
      "source": [
        "Produção de petróleo, em milhares de barris por dia. \n",
        "\n",
        "Para melhor compreensão dos valores de produção, trabalharemos também com a variável 'Produção em barris/dia' buscando apresentar a produção em sua totalidade."
      ],
      "metadata": {
        "id": "dO07od2TUo1U"
      }
    },
    {
      "cell_type": "code",
      "source": [
        "dados['Produção em barris/dia'] = dados['Produção em mil barris/dia'] * 1000"
      ],
      "metadata": {
        "id": "jQLQM-NWVmsw"
      },
      "execution_count": 54,
      "outputs": []
    },
    {
      "cell_type": "code",
      "source": [
        "dados.head()"
      ],
      "metadata": {
        "colab": {
          "base_uri": "https://localhost:8080/",
          "height": 206
        },
        "id": "7DPDzwALV9bD",
        "outputId": "40958259-f418-48e3-e5f8-a81006105afe"
      },
      "execution_count": 55,
      "outputs": [
        {
          "output_type": "execute_result",
          "data": {
            "text/html": [
              "<div>\n",
              "<style scoped>\n",
              "    .dataframe tbody tr th:only-of-type {\n",
              "        vertical-align: middle;\n",
              "    }\n",
              "\n",
              "    .dataframe tbody tr th {\n",
              "        vertical-align: top;\n",
              "    }\n",
              "\n",
              "    .dataframe thead th {\n",
              "        text-align: right;\n",
              "    }\n",
              "</style>\n",
              "<table border=\"1\" class=\"dataframe\">\n",
              "  <thead>\n",
              "    <tr style=\"text-align: right;\">\n",
              "      <th></th>\n",
              "      <th>Bloco Econômico</th>\n",
              "      <th>Região Geográfica</th>\n",
              "      <th>País</th>\n",
              "      <th>Produção em mil barris/dia</th>\n",
              "      <th>Ano</th>\n",
              "      <th>Produção em barris/dia</th>\n",
              "    </tr>\n",
              "  </thead>\n",
              "  <tbody>\n",
              "    <tr>\n",
              "      <th>0</th>\n",
              "      <td>NÃO OPEP</td>\n",
              "      <td>América do Norte</td>\n",
              "      <td>Canadá</td>\n",
              "      <td>3456.81</td>\n",
              "      <td>2010</td>\n",
              "      <td>3456807.61</td>\n",
              "    </tr>\n",
              "    <tr>\n",
              "      <th>1</th>\n",
              "      <td>NÃO OPEP</td>\n",
              "      <td>América do Norte</td>\n",
              "      <td>Estados Unidos</td>\n",
              "      <td>7558.37</td>\n",
              "      <td>2010</td>\n",
              "      <td>7558367.11</td>\n",
              "    </tr>\n",
              "    <tr>\n",
              "      <th>2</th>\n",
              "      <td>NÃO OPEP</td>\n",
              "      <td>América do Norte</td>\n",
              "      <td>México</td>\n",
              "      <td>2959.37</td>\n",
              "      <td>2010</td>\n",
              "      <td>2959366.48</td>\n",
              "    </tr>\n",
              "    <tr>\n",
              "      <th>3</th>\n",
              "      <td>NÃO OPEP</td>\n",
              "      <td>Américas Central e do Sul</td>\n",
              "      <td>Argentina</td>\n",
              "      <td>711.84</td>\n",
              "      <td>2010</td>\n",
              "      <td>711840.09</td>\n",
              "    </tr>\n",
              "    <tr>\n",
              "      <th>4</th>\n",
              "      <td>NÃO OPEP</td>\n",
              "      <td>Américas Central e do Sul</td>\n",
              "      <td>Brasil</td>\n",
              "      <td>2125.05</td>\n",
              "      <td>2010</td>\n",
              "      <td>2125051.81</td>\n",
              "    </tr>\n",
              "  </tbody>\n",
              "</table>\n",
              "</div>"
            ],
            "text/plain": [
              "  Bloco Econômico          Região Geográfica  ...   Ano  Produção em barris/dia\n",
              "0        NÃO OPEP           América do Norte  ...  2010              3456807.61\n",
              "1        NÃO OPEP           América do Norte  ...  2010              7558367.11\n",
              "2        NÃO OPEP           América do Norte  ...  2010              2959366.48\n",
              "3        NÃO OPEP  Américas Central e do Sul  ...  2010               711840.09\n",
              "4        NÃO OPEP  Américas Central e do Sul  ...  2010              2125051.81\n",
              "\n",
              "[5 rows x 6 columns]"
            ]
          },
          "metadata": {},
          "execution_count": 55
        }
      ]
    },
    {
      "cell_type": "markdown",
      "source": [
        "### Ano"
      ],
      "metadata": {
        "id": "TtOfxFwaUuaB"
      }
    },
    {
      "cell_type": "markdown",
      "source": [
        "Ano de produção"
      ],
      "metadata": {
        "id": "5upztkrmUxye"
      }
    },
    {
      "cell_type": "code",
      "source": [
        ""
      ],
      "metadata": {
        "id": "yMAlafL6UwIo"
      },
      "execution_count": 43,
      "outputs": []
    }
  ]
}