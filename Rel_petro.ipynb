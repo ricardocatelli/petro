{
  "nbformat": 4,
  "nbformat_minor": 0,
  "metadata": {
    "colab": {
      "name": "Rel_petro.ipynb",
      "provenance": [],
      "toc_visible": true,
      "include_colab_link": true
    },
    "kernelspec": {
      "name": "python3",
      "display_name": "Python 3"
    },
    "language_info": {
      "name": "python"
    }
  },
  "cells": [
    {
      "cell_type": "markdown",
      "metadata": {
        "id": "view-in-github",
        "colab_type": "text"
      },
      "source": [
        "<a href=\"https://colab.research.google.com/github/ricardocatelli/petro/blob/main/Rel_petro.ipynb\" target=\"_parent\"><img src=\"https://colab.research.google.com/assets/colab-badge.svg\" alt=\"Open In Colab\"/></a>"
      ]
    },
    {
      "cell_type": "markdown",
      "source": [
        "***\n",
        "# <font color=green size=10>Agência Nacional do Petróleo, Gás Natural e Biocombustíveis - ANP</font>\n",
        "***"
      ],
      "metadata": {
        "id": "rwReHmtDKe0Z"
      }
    },
    {
      "cell_type": "markdown",
      "source": [
        "**ANP** é um centro de referência em dados e informações sobre a indústria de petróleo e gás natural:\n",
        "\n",
        "- mantém o Banco de Dados de Exploração e Produção (BDEP);\n",
        "- promove estudos sobre o potencial petrolífero e o desenvolvimento do setor;\n",
        "- recebe e torna públicas as notificações de descobertas;\n",
        "- divulga as estatísticas oficiais sobre reservas, refino e produção de petróleo, gás e biocombustíveis no Brasil.\n",
        "\n",
        "Também realiza e divulga rotineiramente pesquisas sobre qualidade dos combustíveis e lubrificantes e sobre o comportamento dos preços desses produtos. Consolida e divulga informações sobre os mercados regulados e acerca dos investimentos em pesquisa, inovação e formação profissional voltadas para os setores regulados."
      ],
      "metadata": {
        "id": "OSL8mv1JKl-m"
      }
    },
    {
      "cell_type": "markdown",
      "source": [
        "***\n",
        "## <font color = green size = 6>Anuário Estatístico 2020</font>\n",
        "***\n"
      ],
      "metadata": {
        "id": "tbJgKzUTLl_Z"
      }
    },
    {
      "cell_type": "markdown",
      "source": [
        "O Anuário Estatístico Brasileiro do Petróleo, Gás Natural e Biocombustíveis 2020 consolida os dados referentes ao desempenho da indústria do petróleo, gás natural e biocombustíveis e do sistema de abastecimento nacionais no período 2010-2019. Estão disponíveis para consulta e download as tabelas integrantes do Anuário 2020 representadas em formato de dados abertos.\n",
        "\n",
        "https://www.gov.br/anp/pt-br/centrais-de-conteudo/dados-abertos/arquivos/anuario-estatistico-2020/secao-1/anuario-abertos-metadados-tabela1-2-convertido.pdf"
      ],
      "metadata": {
        "id": "SBky4PM5LqZM"
      }
    },
    {
      "cell_type": "code",
      "execution_count": 88,
      "metadata": {
        "id": "20UANc46GgWg"
      },
      "outputs": [],
      "source": [
        "import pandas  as pd\n",
        "import numpy   as np\n",
        "import seaborn as sn"
      ]
    },
    {
      "cell_type": "markdown",
      "source": [
        "### Dataset"
      ],
      "metadata": {
        "id": "iRmaXm_WeBKT"
      }
    },
    {
      "cell_type": "code",
      "source": [
        "url = 'https://raw.githubusercontent.com/ricardocatelli/petro/main/anuario-2020-abertos-tabela1-2.csv'"
      ],
      "metadata": {
        "id": "iNwh68BZLpam"
      },
      "execution_count": 89,
      "outputs": []
    },
    {
      "cell_type": "code",
      "source": [
        "dados = pd.read_csv(url, sep = ';', decimal = ',')"
      ],
      "metadata": {
        "id": "tPgYmKdqNvJk"
      },
      "execution_count": 90,
      "outputs": []
    },
    {
      "cell_type": "code",
      "source": [
        "dados.columns = ['Bloco Econômico', 'Região Geográfica', 'País', 'Produção em mil barris/dia', 'Ano']\n",
        "dados.head()"
      ],
      "metadata": {
        "colab": {
          "base_uri": "https://localhost:8080/",
          "height": 206
        },
        "id": "xkLLGfMJT9vq",
        "outputId": "28147684-ff08-4f5f-f4a9-477b21228f16"
      },
      "execution_count": 91,
      "outputs": [
        {
          "output_type": "execute_result",
          "data": {
            "text/html": [
              "<div>\n",
              "<style scoped>\n",
              "    .dataframe tbody tr th:only-of-type {\n",
              "        vertical-align: middle;\n",
              "    }\n",
              "\n",
              "    .dataframe tbody tr th {\n",
              "        vertical-align: top;\n",
              "    }\n",
              "\n",
              "    .dataframe thead th {\n",
              "        text-align: right;\n",
              "    }\n",
              "</style>\n",
              "<table border=\"1\" class=\"dataframe\">\n",
              "  <thead>\n",
              "    <tr style=\"text-align: right;\">\n",
              "      <th></th>\n",
              "      <th>Bloco Econômico</th>\n",
              "      <th>Região Geográfica</th>\n",
              "      <th>País</th>\n",
              "      <th>Produção em mil barris/dia</th>\n",
              "      <th>Ano</th>\n",
              "    </tr>\n",
              "  </thead>\n",
              "  <tbody>\n",
              "    <tr>\n",
              "      <th>0</th>\n",
              "      <td>NÃO OPEP</td>\n",
              "      <td>América do Norte</td>\n",
              "      <td>Canadá</td>\n",
              "      <td>3456.81</td>\n",
              "      <td>2010</td>\n",
              "    </tr>\n",
              "    <tr>\n",
              "      <th>1</th>\n",
              "      <td>NÃO OPEP</td>\n",
              "      <td>América do Norte</td>\n",
              "      <td>Estados Unidos</td>\n",
              "      <td>7558.37</td>\n",
              "      <td>2010</td>\n",
              "    </tr>\n",
              "    <tr>\n",
              "      <th>2</th>\n",
              "      <td>NÃO OPEP</td>\n",
              "      <td>América do Norte</td>\n",
              "      <td>México</td>\n",
              "      <td>2959.37</td>\n",
              "      <td>2010</td>\n",
              "    </tr>\n",
              "    <tr>\n",
              "      <th>3</th>\n",
              "      <td>NÃO OPEP</td>\n",
              "      <td>Américas Central e do Sul</td>\n",
              "      <td>Argentina</td>\n",
              "      <td>711.84</td>\n",
              "      <td>2010</td>\n",
              "    </tr>\n",
              "    <tr>\n",
              "      <th>4</th>\n",
              "      <td>NÃO OPEP</td>\n",
              "      <td>Américas Central e do Sul</td>\n",
              "      <td>Brasil</td>\n",
              "      <td>2125.05</td>\n",
              "      <td>2010</td>\n",
              "    </tr>\n",
              "  </tbody>\n",
              "</table>\n",
              "</div>"
            ],
            "text/plain": [
              "  Bloco Econômico          Região Geográfica  ... Produção em mil barris/dia   Ano\n",
              "0        NÃO OPEP           América do Norte  ...                    3456.81  2010\n",
              "1        NÃO OPEP           América do Norte  ...                    7558.37  2010\n",
              "2        NÃO OPEP           América do Norte  ...                    2959.37  2010\n",
              "3        NÃO OPEP  Américas Central e do Sul  ...                     711.84  2010\n",
              "4        NÃO OPEP  Américas Central e do Sul  ...                    2125.05  2010\n",
              "\n",
              "[5 rows x 5 columns]"
            ]
          },
          "metadata": {},
          "execution_count": 91
        }
      ]
    },
    {
      "cell_type": "code",
      "source": [
        "dados.info()"
      ],
      "metadata": {
        "colab": {
          "base_uri": "https://localhost:8080/"
        },
        "id": "j4cfiwTkdGfG",
        "outputId": "6e2c1967-6661-4718-e34c-b621226bde87"
      },
      "execution_count": 92,
      "outputs": [
        {
          "output_type": "stream",
          "name": "stdout",
          "text": [
            "<class 'pandas.core.frame.DataFrame'>\n",
            "RangeIndex: 550 entries, 0 to 549\n",
            "Data columns (total 5 columns):\n",
            " #   Column                      Non-Null Count  Dtype  \n",
            "---  ------                      --------------  -----  \n",
            " 0   Bloco Econômico             550 non-null    object \n",
            " 1   Região Geográfica           550 non-null    object \n",
            " 2   País                        550 non-null    object \n",
            " 3   Produção em mil barris/dia  550 non-null    float64\n",
            " 4   Ano                         550 non-null    int64  \n",
            "dtypes: float64(1), int64(1), object(3)\n",
            "memory usage: 21.6+ KB\n"
          ]
        }
      ]
    },
    {
      "cell_type": "markdown",
      "source": [
        "Avaliando nosso dataset percebemos que não possuímos valores nulos nas variáveis analisadas."
      ],
      "metadata": {
        "id": "wBdiafSCeK9J"
      }
    },
    {
      "cell_type": "code",
      "source": [
        "dados.shape"
      ],
      "metadata": {
        "colab": {
          "base_uri": "https://localhost:8080/"
        },
        "id": "sYJt3lpCeKAw",
        "outputId": "64d1a35f-223d-46ec-8ffd-b14466ca6dd4"
      },
      "execution_count": 93,
      "outputs": [
        {
          "output_type": "execute_result",
          "data": {
            "text/plain": [
              "(550, 5)"
            ]
          },
          "metadata": {},
          "execution_count": 93
        }
      ]
    },
    {
      "cell_type": "code",
      "source": [
        "print('A base de dados nos apresenta {} registros e {} variáveis'.format(dados.shape[0], dados.shape[1]))"
      ],
      "metadata": {
        "colab": {
          "base_uri": "https://localhost:8080/"
        },
        "id": "cNsFJfiMemrU",
        "outputId": "09c94de2-bbd2-4580-c3ea-a87b9c934095"
      },
      "execution_count": 94,
      "outputs": [
        {
          "output_type": "stream",
          "name": "stdout",
          "text": [
            "A base de dados nos apresenta 550 registros e 5 variáveis\n"
          ]
        }
      ]
    },
    {
      "cell_type": "markdown",
      "source": [
        "### Bloco Econômico"
      ],
      "metadata": {
        "id": "RjjVM5quS98x"
      }
    },
    {
      "cell_type": "markdown",
      "source": [
        "O Bloco identifica a qual bloco\n",
        "econômico o país pertence\n",
        "(OPEP ou NÃO OPEP). A OPEP –\n",
        "Organização dos países\n",
        "exportadores de petróleo - é\n",
        "uma organização internacional\n",
        "criada em 1960 na Conferência\n",
        "de Bagdá que visa coordenar de\n",
        "maneira centralizada a política\n",
        "petrolífera dos países membros"
      ],
      "metadata": {
        "id": "vLz5OKrRSX2j"
      }
    },
    {
      "cell_type": "code",
      "source": [
        "dados['Bloco Econômico'].unique()"
      ],
      "metadata": {
        "colab": {
          "base_uri": "https://localhost:8080/"
        },
        "id": "6t2dNCuLbqJq",
        "outputId": "ccbfd2bd-eeca-46ec-9f87-f5175cfe9d4b"
      },
      "execution_count": 95,
      "outputs": [
        {
          "output_type": "execute_result",
          "data": {
            "text/plain": [
              "array(['NÃO OPEP', 'OPEP'], dtype=object)"
            ]
          },
          "metadata": {},
          "execution_count": 95
        }
      ]
    },
    {
      "cell_type": "markdown",
      "source": [
        "### Região Geográfica"
      ],
      "metadata": {
        "id": "4M4clxqqUFG9"
      }
    },
    {
      "cell_type": "markdown",
      "source": [
        "Região Geográfica – América do\n",
        "Norte, Américas Central e do Sul,\n",
        "Europa, Comunidade dos Estados\n",
        "Independentes, Oriente Médio,\n",
        "África e Ásia-Pacífico"
      ],
      "metadata": {
        "id": "Z2xU18gGS6qj"
      }
    },
    {
      "cell_type": "code",
      "source": [
        "dados['Região Geográfica'].unique()"
      ],
      "metadata": {
        "colab": {
          "base_uri": "https://localhost:8080/"
        },
        "id": "PrhMIJxmbimd",
        "outputId": "0991e744-d911-4e10-f235-61ceb885b4f8"
      },
      "execution_count": 96,
      "outputs": [
        {
          "output_type": "execute_result",
          "data": {
            "text/plain": [
              "array(['América do Norte', 'Américas Central e do Sul', 'Europa',\n",
              "       'Comunidade dos Estados Independentes', 'Oriente Médio', 'África',\n",
              "       'Ásia-Pacífico'], dtype=object)"
            ]
          },
          "metadata": {},
          "execution_count": 96
        }
      ]
    },
    {
      "cell_type": "markdown",
      "source": [
        "### País"
      ],
      "metadata": {
        "id": "ynC2QOciUbBF"
      }
    },
    {
      "cell_type": "markdown",
      "source": [
        "País produtor de petróleo "
      ],
      "metadata": {
        "id": "qD3GjfhxUd23"
      }
    },
    {
      "cell_type": "code",
      "source": [
        "print('No total foram avaliados %s países dividos em %s regiões diferentes' % (len(dados['País'].unique()), (len(dados['Região Geográfica'].unique()))))"
      ],
      "metadata": {
        "colab": {
          "base_uri": "https://localhost:8080/"
        },
        "id": "f5JhLlnMbyLq",
        "outputId": "d0ee3f87-15a8-4bc5-df6b-80f63308ba41"
      },
      "execution_count": 97,
      "outputs": [
        {
          "output_type": "stream",
          "name": "stdout",
          "text": [
            "No total foram avaliados 50 países dividos em 7 regiões diferentes\n"
          ]
        }
      ]
    },
    {
      "cell_type": "markdown",
      "source": [
        "### Produção em mil barris/dia"
      ],
      "metadata": {
        "id": "SmgItq1lUiTj"
      }
    },
    {
      "cell_type": "markdown",
      "source": [
        "Produção de petróleo, em milhares de barris por dia. \n",
        "\n",
        "Para melhor compreensão dos valores de produção, trabalharemos também com a variável 'Produção em barris/dia' buscando apresentar a produção em sua totalidade."
      ],
      "metadata": {
        "id": "dO07od2TUo1U"
      }
    },
    {
      "cell_type": "code",
      "source": [
        "dados['Produção em barris/dia'] = dados['Produção em mil barris/dia'] * 1000"
      ],
      "metadata": {
        "id": "jQLQM-NWVmsw"
      },
      "execution_count": 98,
      "outputs": []
    },
    {
      "cell_type": "code",
      "source": [
        "dados.head()"
      ],
      "metadata": {
        "colab": {
          "base_uri": "https://localhost:8080/",
          "height": 206
        },
        "id": "7DPDzwALV9bD",
        "outputId": "6543595a-3484-4c1e-d0bf-93a37901d9cb"
      },
      "execution_count": 99,
      "outputs": [
        {
          "output_type": "execute_result",
          "data": {
            "text/html": [
              "<div>\n",
              "<style scoped>\n",
              "    .dataframe tbody tr th:only-of-type {\n",
              "        vertical-align: middle;\n",
              "    }\n",
              "\n",
              "    .dataframe tbody tr th {\n",
              "        vertical-align: top;\n",
              "    }\n",
              "\n",
              "    .dataframe thead th {\n",
              "        text-align: right;\n",
              "    }\n",
              "</style>\n",
              "<table border=\"1\" class=\"dataframe\">\n",
              "  <thead>\n",
              "    <tr style=\"text-align: right;\">\n",
              "      <th></th>\n",
              "      <th>Bloco Econômico</th>\n",
              "      <th>Região Geográfica</th>\n",
              "      <th>País</th>\n",
              "      <th>Produção em mil barris/dia</th>\n",
              "      <th>Ano</th>\n",
              "      <th>Produção em barris/dia</th>\n",
              "    </tr>\n",
              "  </thead>\n",
              "  <tbody>\n",
              "    <tr>\n",
              "      <th>0</th>\n",
              "      <td>NÃO OPEP</td>\n",
              "      <td>América do Norte</td>\n",
              "      <td>Canadá</td>\n",
              "      <td>3456.81</td>\n",
              "      <td>2010</td>\n",
              "      <td>3456807.61</td>\n",
              "    </tr>\n",
              "    <tr>\n",
              "      <th>1</th>\n",
              "      <td>NÃO OPEP</td>\n",
              "      <td>América do Norte</td>\n",
              "      <td>Estados Unidos</td>\n",
              "      <td>7558.37</td>\n",
              "      <td>2010</td>\n",
              "      <td>7558367.11</td>\n",
              "    </tr>\n",
              "    <tr>\n",
              "      <th>2</th>\n",
              "      <td>NÃO OPEP</td>\n",
              "      <td>América do Norte</td>\n",
              "      <td>México</td>\n",
              "      <td>2959.37</td>\n",
              "      <td>2010</td>\n",
              "      <td>2959366.48</td>\n",
              "    </tr>\n",
              "    <tr>\n",
              "      <th>3</th>\n",
              "      <td>NÃO OPEP</td>\n",
              "      <td>Américas Central e do Sul</td>\n",
              "      <td>Argentina</td>\n",
              "      <td>711.84</td>\n",
              "      <td>2010</td>\n",
              "      <td>711840.09</td>\n",
              "    </tr>\n",
              "    <tr>\n",
              "      <th>4</th>\n",
              "      <td>NÃO OPEP</td>\n",
              "      <td>Américas Central e do Sul</td>\n",
              "      <td>Brasil</td>\n",
              "      <td>2125.05</td>\n",
              "      <td>2010</td>\n",
              "      <td>2125051.81</td>\n",
              "    </tr>\n",
              "  </tbody>\n",
              "</table>\n",
              "</div>"
            ],
            "text/plain": [
              "  Bloco Econômico          Região Geográfica  ...   Ano  Produção em barris/dia\n",
              "0        NÃO OPEP           América do Norte  ...  2010              3456807.61\n",
              "1        NÃO OPEP           América do Norte  ...  2010              7558367.11\n",
              "2        NÃO OPEP           América do Norte  ...  2010              2959366.48\n",
              "3        NÃO OPEP  Américas Central e do Sul  ...  2010               711840.09\n",
              "4        NÃO OPEP  Américas Central e do Sul  ...  2010              2125051.81\n",
              "\n",
              "[5 rows x 6 columns]"
            ]
          },
          "metadata": {},
          "execution_count": 99
        }
      ]
    },
    {
      "cell_type": "markdown",
      "source": [
        "### Ano"
      ],
      "metadata": {
        "id": "TtOfxFwaUuaB"
      }
    },
    {
      "cell_type": "markdown",
      "source": [
        "Ano de produção"
      ],
      "metadata": {
        "id": "5upztkrmUxye"
      }
    },
    {
      "cell_type": "code",
      "source": [
        "dados['Ano'].unique()"
      ],
      "metadata": {
        "colab": {
          "base_uri": "https://localhost:8080/"
        },
        "id": "KdAoZSCsbRoC",
        "outputId": "57af52ae-5651-4b84-9802-10272837eef9"
      },
      "execution_count": 100,
      "outputs": [
        {
          "output_type": "execute_result",
          "data": {
            "text/plain": [
              "array([2010, 2011, 2012, 2013, 2014, 2015, 2016, 2017, 2018, 2019])"
            ]
          },
          "metadata": {},
          "execution_count": 100
        }
      ]
    },
    {
      "cell_type": "markdown",
      "source": [
        "O levantamento realizado corresponde à década de 2010 a 2019"
      ],
      "metadata": {
        "id": "X-63gd1obVq6"
      }
    },
    {
      "cell_type": "markdown",
      "source": [
        "***\n",
        "## <font color = green size = 6>Análise das Variáveis</font>\n",
        "***"
      ],
      "metadata": {
        "id": "w5ll3vStf8Gu"
      }
    },
    {
      "cell_type": "markdown",
      "source": [
        "### Bloco Econômico\n"
      ],
      "metadata": {
        "id": "kZCMvbrWgO2f"
      }
    },
    {
      "cell_type": "markdown",
      "source": [
        "Como vimos anteriormente, esta variável identifica a qual bloco econômico o país pertence (OPEP ou NÃO OPEP). \n",
        "\n",
        "A **OPEP – Organização dos países exportadores de petróleo** - é uma organização internacional criada em 1960 na Conferência de Bagdá que visa coordenar de maneira centralizada a política petrolífera dos países membros.\n",
        "\n",
        "Primeiramente vamos conhecer quais são os países que compõem esses blocos."
      ],
      "metadata": {
        "id": "WFwoEUa0geR6"
      }
    },
    {
      "cell_type": "code",
      "source": [
        "dados['Bloco Econômico'].drop_duplicates()"
      ],
      "metadata": {
        "colab": {
          "base_uri": "https://localhost:8080/"
        },
        "id": "yMAlafL6UwIo",
        "outputId": "093d83df-8d46-49ab-8ea6-916af022bbb5"
      },
      "execution_count": 119,
      "outputs": [
        {
          "output_type": "execute_result",
          "data": {
            "text/plain": [
              "0    NÃO OPEP\n",
              "6        OPEP\n",
              "Name: Bloco Econômico, dtype: object"
            ]
          },
          "metadata": {},
          "execution_count": 119
        }
      ]
    },
    {
      "cell_type": "code",
      "source": [
        "opep = ['OPEP']"
      ],
      "metadata": {
        "id": "L--R5L33hF79"
      },
      "execution_count": 120,
      "outputs": []
    },
    {
      "cell_type": "code",
      "source": [
        "dados['Bloco Econômico'].isin(opep).head(10)"
      ],
      "metadata": {
        "colab": {
          "base_uri": "https://localhost:8080/"
        },
        "id": "9jGjVHpGhHSH",
        "outputId": "b74b7759-5ec8-4e52-cd70-2b05db40e694"
      },
      "execution_count": 121,
      "outputs": [
        {
          "output_type": "execute_result",
          "data": {
            "text/plain": [
              "0    False\n",
              "1    False\n",
              "2    False\n",
              "3    False\n",
              "4    False\n",
              "5    False\n",
              "6     True\n",
              "7    False\n",
              "8    False\n",
              "9     True\n",
              "Name: Bloco Econômico, dtype: bool"
            ]
          },
          "metadata": {},
          "execution_count": 121
        }
      ]
    },
    {
      "cell_type": "code",
      "source": [
        "select = dados['Bloco Econômico'].isin(opep)"
      ],
      "metadata": {
        "id": "3k8H7c64h8C9"
      },
      "execution_count": 122,
      "outputs": []
    },
    {
      "cell_type": "code",
      "source": [
        "dados_opep = dados[select]"
      ],
      "metadata": {
        "id": "F3m55TxtiLpc"
      },
      "execution_count": 123,
      "outputs": []
    },
    {
      "cell_type": "code",
      "source": [
        "list(dados_opep['País'].drop_duplicates())"
      ],
      "metadata": {
        "colab": {
          "base_uri": "https://localhost:8080/"
        },
        "id": "bcFTU8K8iK3_",
        "outputId": "4700b761-a4be-4522-ed4e-8de81ea1be59"
      },
      "execution_count": 125,
      "outputs": [
        {
          "output_type": "execute_result",
          "data": {
            "text/plain": [
              "['Equador',\n",
              " 'Venezuela',\n",
              " 'Arábia Saudita',\n",
              " 'Coveite',\n",
              " 'Emirados Árabes Unidos',\n",
              " 'Irã',\n",
              " 'Iraque',\n",
              " 'Argélia',\n",
              " 'Angola',\n",
              " 'Congo ',\n",
              " 'Gabão',\n",
              " 'Guiné-Equatorial',\n",
              " 'Líbia',\n",
              " 'Nigéria']"
            ]
          },
          "metadata": {},
          "execution_count": 125
        }
      ]
    },
    {
      "cell_type": "markdown",
      "source": [
        "Para conhecer os países que não participam da Organização dos países exportadores de petróleo basta inverter a seleção."
      ],
      "metadata": {
        "id": "QkWi_RsbolF5"
      }
    },
    {
      "cell_type": "code",
      "source": [
        "dados_nao_opep = dados[~select]"
      ],
      "metadata": {
        "id": "Kz4ddSndoB3j"
      },
      "execution_count": 127,
      "outputs": []
    },
    {
      "cell_type": "code",
      "source": [
        "list(dados_nao_opep['País'].drop_duplicates())"
      ],
      "metadata": {
        "id": "ddUS8-HTojvG",
        "outputId": "c5b336e2-56c6-499a-e943-f29618e833d4",
        "colab": {
          "base_uri": "https://localhost:8080/"
        }
      },
      "execution_count": 128,
      "outputs": [
        {
          "output_type": "execute_result",
          "data": {
            "text/plain": [
              "['Canadá',\n",
              " 'Estados Unidos',\n",
              " 'México',\n",
              " 'Argentina',\n",
              " 'Brasil',\n",
              " 'Colômbia',\n",
              " 'Peru',\n",
              " 'Trinidad e Tobago',\n",
              " 'Outros',\n",
              " 'Dinamarca',\n",
              " 'Itália',\n",
              " 'Noruega',\n",
              " 'Reino Unido',\n",
              " 'Romênia',\n",
              " 'Azerbaijão',\n",
              " 'Cazaquistão',\n",
              " 'Rússia',\n",
              " 'Turcomenistão',\n",
              " 'Uzbequistão',\n",
              " 'Catar',\n",
              " 'Iêmen',\n",
              " 'Omã',\n",
              " 'Síria',\n",
              " 'Chade',\n",
              " 'Egito',\n",
              " 'Sudão',\n",
              " 'Sudão do Sul',\n",
              " 'Tunísia',\n",
              " 'Austrália',\n",
              " 'Brunei',\n",
              " 'China',\n",
              " 'Índia',\n",
              " 'Indonésia',\n",
              " 'Malásia',\n",
              " 'Tailândia',\n",
              " 'Vietnã']"
            ]
          },
          "metadata": {},
          "execution_count": 128
        }
      ]
    },
    {
      "cell_type": "code",
      "source": [
        ""
      ],
      "metadata": {
        "id": "xptLI1Nso2iL"
      },
      "execution_count": null,
      "outputs": []
    }
  ]
}