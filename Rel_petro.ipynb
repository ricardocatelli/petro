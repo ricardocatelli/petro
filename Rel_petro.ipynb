{
  "nbformat": 4,
  "nbformat_minor": 0,
  "metadata": {
    "colab": {
      "name": "Rel_petro.ipynb",
      "provenance": [],
      "toc_visible": true,
      "include_colab_link": true
    },
    "kernelspec": {
      "name": "python3",
      "display_name": "Python 3"
    },
    "language_info": {
      "name": "python"
    }
  },
  "cells": [
    {
      "cell_type": "markdown",
      "metadata": {
        "id": "view-in-github",
        "colab_type": "text"
      },
      "source": [
        "<a href=\"https://colab.research.google.com/github/ricardocatelli/petro/blob/main/Rel_petro.ipynb\" target=\"_parent\"><img src=\"https://colab.research.google.com/assets/colab-badge.svg\" alt=\"Open In Colab\"/></a>"
      ]
    },
    {
      "cell_type": "markdown",
      "source": [
        "***\n",
        "# <font color=green size=10>Agência Nacional do Petróleo, Gás Natural e Biocombustíveis - ANP</font>\n",
        "***"
      ],
      "metadata": {
        "id": "rwReHmtDKe0Z"
      }
    },
    {
      "cell_type": "markdown",
      "source": [
        "**ANP** é um centro de referência em dados e informações sobre a indústria de petróleo e gás natural:\n",
        "\n",
        "- mantém o Banco de Dados de Exploração e Produção (BDEP);\n",
        "- promove estudos sobre o potencial petrolífero e o desenvolvimento do setor;\n",
        "- recebe e torna públicas as notificações de descobertas;\n",
        "- divulga as estatísticas oficiais sobre reservas, refino e produção de petróleo, gás e biocombustíveis no Brasil.\n",
        "\n",
        "Também realiza e divulga rotineiramente pesquisas sobre qualidade dos combustíveis e lubrificantes e sobre o comportamento dos preços desses produtos. Consolida e divulga informações sobre os mercados regulados e acerca dos investimentos em pesquisa, inovação e formação profissional voltadas para os setores regulados."
      ],
      "metadata": {
        "id": "OSL8mv1JKl-m"
      }
    },
    {
      "cell_type": "markdown",
      "source": [
        "***\n",
        "## <font color = green size = 6>Anuário Estatístico 2020</font>\n",
        "***\n"
      ],
      "metadata": {
        "id": "tbJgKzUTLl_Z"
      }
    },
    {
      "cell_type": "markdown",
      "source": [
        "O Anuário Estatístico Brasileiro do Petróleo, Gás Natural e Biocombustíveis 2020 consolida os dados referentes ao desempenho da indústria do petróleo, gás natural e biocombustíveis e do sistema de abastecimento nacionais no período 2010-2019. Estão disponíveis para consulta e download as tabelas integrantes do Anuário 2020 representadas em formato de dados abertos.\n",
        "\n",
        "https://www.gov.br/anp/pt-br/centrais-de-conteudo/dados-abertos/arquivos/anuario-estatistico-2020/secao-1/anuario-abertos-metadados-tabela1-2-convertido.pdf"
      ],
      "metadata": {
        "id": "SBky4PM5LqZM"
      }
    },
    {
      "cell_type": "code",
      "execution_count": 8,
      "metadata": {
        "id": "20UANc46GgWg"
      },
      "outputs": [],
      "source": [
        "import pandas  as pd\n",
        "import numpy   as np\n",
        "import seaborn as sns"
      ]
    },
    {
      "cell_type": "markdown",
      "source": [
        "### Dataset"
      ],
      "metadata": {
        "id": "iRmaXm_WeBKT"
      }
    },
    {
      "cell_type": "code",
      "source": [
        "url = 'https://raw.githubusercontent.com/ricardocatelli/petro/main/anuario-2020-abertos-tabela1-2.csv'"
      ],
      "metadata": {
        "id": "iNwh68BZLpam"
      },
      "execution_count": 1,
      "outputs": []
    },
    {
      "cell_type": "code",
      "source": [
        "dados = pd.read_csv(url, sep = ';', decimal = ',')"
      ],
      "metadata": {
        "id": "tPgYmKdqNvJk"
      },
      "execution_count": 4,
      "outputs": []
    },
    {
      "cell_type": "code",
      "source": [
        "dados.columns = ['Bloco Econômico', 'Região Geográfica', 'País', 'Produção em mil barris/dia', 'Ano']\n",
        "dados.head()"
      ],
      "metadata": {
        "colab": {
          "base_uri": "https://localhost:8080/",
          "height": 204
        },
        "id": "xkLLGfMJT9vq",
        "outputId": "90918b9a-28b1-4859-ee6f-e165018471cc"
      },
      "execution_count": 5,
      "outputs": [
        {
          "output_type": "execute_result",
          "data": {
            "text/html": [
              "<div>\n",
              "<style scoped>\n",
              "    .dataframe tbody tr th:only-of-type {\n",
              "        vertical-align: middle;\n",
              "    }\n",
              "\n",
              "    .dataframe tbody tr th {\n",
              "        vertical-align: top;\n",
              "    }\n",
              "\n",
              "    .dataframe thead th {\n",
              "        text-align: right;\n",
              "    }\n",
              "</style>\n",
              "<table border=\"1\" class=\"dataframe\">\n",
              "  <thead>\n",
              "    <tr style=\"text-align: right;\">\n",
              "      <th></th>\n",
              "      <th>Bloco Econômico</th>\n",
              "      <th>Região Geográfica</th>\n",
              "      <th>País</th>\n",
              "      <th>Produção em mil barris/dia</th>\n",
              "      <th>Ano</th>\n",
              "    </tr>\n",
              "  </thead>\n",
              "  <tbody>\n",
              "    <tr>\n",
              "      <th>0</th>\n",
              "      <td>NÃO OPEP</td>\n",
              "      <td>América do Norte</td>\n",
              "      <td>Canadá</td>\n",
              "      <td>3456.807609</td>\n",
              "      <td>2010</td>\n",
              "    </tr>\n",
              "    <tr>\n",
              "      <th>1</th>\n",
              "      <td>NÃO OPEP</td>\n",
              "      <td>América do Norte</td>\n",
              "      <td>Estados Unidos</td>\n",
              "      <td>7558.367110</td>\n",
              "      <td>2010</td>\n",
              "    </tr>\n",
              "    <tr>\n",
              "      <th>2</th>\n",
              "      <td>NÃO OPEP</td>\n",
              "      <td>América do Norte</td>\n",
              "      <td>México</td>\n",
              "      <td>2959.366480</td>\n",
              "      <td>2010</td>\n",
              "    </tr>\n",
              "    <tr>\n",
              "      <th>3</th>\n",
              "      <td>NÃO OPEP</td>\n",
              "      <td>Américas Central e do Sul</td>\n",
              "      <td>Argentina</td>\n",
              "      <td>711.840091</td>\n",
              "      <td>2010</td>\n",
              "    </tr>\n",
              "    <tr>\n",
              "      <th>4</th>\n",
              "      <td>NÃO OPEP</td>\n",
              "      <td>Américas Central e do Sul</td>\n",
              "      <td>Brasil</td>\n",
              "      <td>2125.051810</td>\n",
              "      <td>2010</td>\n",
              "    </tr>\n",
              "  </tbody>\n",
              "</table>\n",
              "</div>"
            ],
            "text/plain": [
              "  Bloco Econômico          Região Geográfica  ... Produção em mil barris/dia   Ano\n",
              "0        NÃO OPEP           América do Norte  ...                3456.807609  2010\n",
              "1        NÃO OPEP           América do Norte  ...                7558.367110  2010\n",
              "2        NÃO OPEP           América do Norte  ...                2959.366480  2010\n",
              "3        NÃO OPEP  Américas Central e do Sul  ...                 711.840091  2010\n",
              "4        NÃO OPEP  Américas Central e do Sul  ...                2125.051810  2010\n",
              "\n",
              "[5 rows x 5 columns]"
            ]
          },
          "metadata": {},
          "execution_count": 5
        }
      ]
    },
    {
      "cell_type": "code",
      "source": [
        "sns.set(rc={'figure.figsize':(13.7,9.27)})\n",
        "sns.scatterplot(x= 'Ano', y= 'Produção em mil barris/dia', data=dados, hue ='Região Geográfica')"
      ],
      "metadata": {
        "id": "d3FlhWuVyWHB",
        "outputId": "1a0869ad-a8a5-4c1a-abab-70d229639576",
        "colab": {
          "base_uri": "https://localhost:8080/",
          "height": 588
        }
      },
      "execution_count": 24,
      "outputs": [
        {
          "output_type": "execute_result",
          "data": {
            "text/plain": [
              "<matplotlib.axes._subplots.AxesSubplot at 0x7fed240f8790>"
            ]
          },
          "metadata": {},
          "execution_count": 24
        },
        {
          "output_type": "display_data",
          "data": {
            "image/png": "[encoded data removed]",
            "text/plain": [
              "<Figure size 986.4x667.44 with 1 Axes>"
            ]
          },
          "metadata": {}
        }
      ]
    },
    {
      "cell_type": "code",
      "source": [
        "dados.info()"
      ],
      "metadata": {
        "colab": {
          "base_uri": "https://localhost:8080/"
        },
        "id": "j4cfiwTkdGfG",
        "outputId": "e053b991-eb39-4b09-ef62-7b1007d9d6f9"
      },
      "execution_count": 6,
      "outputs": [
        {
          "output_type": "stream",
          "name": "stdout",
          "text": [
            "<class 'pandas.core.frame.DataFrame'>\n",
            "RangeIndex: 550 entries, 0 to 549\n",
            "Data columns (total 5 columns):\n",
            " #   Column                      Non-Null Count  Dtype  \n",
            "---  ------                      --------------  -----  \n",
            " 0   Bloco Econômico             550 non-null    object \n",
            " 1   Região Geográfica           550 non-null    object \n",
            " 2   País                        550 non-null    object \n",
            " 3   Produção em mil barris/dia  550 non-null    float64\n",
            " 4   Ano                         550 non-null    int64  \n",
            "dtypes: float64(1), int64(1), object(3)\n",
            "memory usage: 21.6+ KB\n"
          ]
        }
      ]
    },
    {
      "cell_type": "markdown",
      "source": [
        "Avaliando nosso dataset percebemos que não possuímos valores nulos nas variáveis analisadas."
      ],
      "metadata": {
        "id": "wBdiafSCeK9J"
      }
    },
    {
      "cell_type": "code",
      "source": [
        "dados.shape"
      ],
      "metadata": {
        "colab": {
          "base_uri": "https://localhost:8080/"
        },
        "id": "sYJt3lpCeKAw",
        "outputId": "db91e0a6-835a-465b-a7a4-cc366e07731e"
      },
      "execution_count": null,
      "outputs": [
        {
          "output_type": "execute_result",
          "data": {
            "text/plain": [
              "(550, 5)"
            ]
          },
          "metadata": {},
          "execution_count": 164
        }
      ]
    },
    {
      "cell_type": "code",
      "source": [
        "print('A base de dados nos apresentav {} registros e {} ariáveis'.format(dados.shape[0], dados.shape[1]))"
      ],
      "metadata": {
        "colab": {
          "base_uri": "https://localhost:8080/"
        },
        "id": "cNsFJfiMemrU",
        "outputId": "56a93645-d7c9-402a-ef7b-4880072183a1"
      },
      "execution_count": null,
      "outputs": [
        {
          "output_type": "stream",
          "name": "stdout",
          "text": [
            "A base de dados nos apresenta 550 registros e 5 variáveis\n"
          ]
        }
      ]
    },
    {
      "cell_type": "markdown",
      "source": [
        "### Bloco Econômico"
      ],
      "metadata": {
        "id": "RjjVM5quS98x"
      }
    },
    {
      "cell_type": "markdown",
      "source": [
        "O Bloco identifica a qual bloco\n",
        "econômico o país pertence\n",
        "(OPEP ou NÃO OPEP). A OPEP –\n",
        "Organização dos países\n",
        "exportadores de petróleo - é\n",
        "uma organização internacional\n",
        "criada em 1960 na Conferência\n",
        "de Bagdá que visa coordenar de\n",
        "maneira centralizada a política\n",
        "petrolífera dos países membros"
      ],
      "metadata": {
        "id": "vLz5OKrRSX2j"
      }
    },
    {
      "cell_type": "code",
      "source": [
        "dados['Bloco Econômico'].unique()"
      ],
      "metadata": {
        "colab": {
          "base_uri": "https://localhost:8080/"
        },
        "id": "6t2dNCuLbqJq",
        "outputId": "a078cfcc-9066-4820-92cc-713d41354cb2"
      },
      "execution_count": null,
      "outputs": [
        {
          "output_type": "execute_result",
          "data": {
            "text/plain": [
              "array(['NÃO OPEP', 'OPEP'], dtype=object)"
            ]
          },
          "metadata": {},
          "execution_count": 166
        }
      ]
    },
    {
      "cell_type": "markdown",
      "source": [
        "### Região Geográfica"
      ],
      "metadata": {
        "id": "4M4clxqqUFG9"
      }
    },
    {
      "cell_type": "markdown",
      "source": [
        "Região Geográfica – América do\n",
        "Norte, Américas Central e do Sul,\n",
        "Europa, Comunidade dos Estados\n",
        "Independentes, Oriente Médio,\n",
        "África e Ásia-Pacífico"
      ],
      "metadata": {
        "id": "Z2xU18gGS6qj"
      }
    },
    {
      "cell_type": "code",
      "source": [
        "dados['Região Geográfica'].unique()"
      ],
      "metadata": {
        "colab": {
          "base_uri": "https://localhost:8080/"
        },
        "id": "PrhMIJxmbimd",
        "outputId": "d9fde5e1-d3b2-4eee-b5fe-3539e5171252"
      },
      "execution_count": null,
      "outputs": [
        {
          "output_type": "execute_result",
          "data": {
            "text/plain": [
              "array(['América do Norte', 'Américas Central e do Sul', 'Europa',\n",
              "       'Comunidade dos Estados Independentes', 'Oriente Médio', 'África',\n",
              "       'Ásia-Pacífico'], dtype=object)"
            ]
          },
          "metadata": {},
          "execution_count": 167
        }
      ]
    },
    {
      "cell_type": "markdown",
      "source": [
        "### País"
      ],
      "metadata": {
        "id": "ynC2QOciUbBF"
      }
    },
    {
      "cell_type": "markdown",
      "source": [
        "País produtor de petróleo "
      ],
      "metadata": {
        "id": "qD3GjfhxUd23"
      }
    },
    {
      "cell_type": "code",
      "source": [
        "print('No total foram avaliados %s países dividos em %s regiões diferentes' % (len(dados['País'].unique()), (len(dados['Região Geográfica'].unique()))))"
      ],
      "metadata": {
        "colab": {
          "base_uri": "https://localhost:8080/"
        },
        "id": "f5JhLlnMbyLq",
        "outputId": "a1c8c6ed-1b7f-416a-a4d9-b24c88c52415"
      },
      "execution_count": null,
      "outputs": [
        {
          "output_type": "stream",
          "name": "stdout",
          "text": [
            "No total foram avaliados 50 países dividos em 7 regiões diferentes\n"
          ]
        }
      ]
    },
    {
      "cell_type": "markdown",
      "source": [
        "### Produção em mil barris/dia"
      ],
      "metadata": {
        "id": "SmgItq1lUiTj"
      }
    },
    {
      "cell_type": "markdown",
      "source": [
        "Produção de petróleo, em milhares de barris por dia. \n",
        "\n",
        "Para melhor compreensão dos valores de produção, trabalharemos também com a variável 'Produção em barris/dia' buscando apresentar a produção em sua totalidade."
      ],
      "metadata": {
        "id": "dO07od2TUo1U"
      }
    },
    {
      "cell_type": "code",
      "source": [
        "dados['Produção em barris/dia'] = dados['Produção em mil barris/dia'] * 1000"
      ],
      "metadata": {
        "id": "jQLQM-NWVmsw"
      },
      "execution_count": null,
      "outputs": []
    },
    {
      "cell_type": "code",
      "source": [
        "dados.head()"
      ],
      "metadata": {
        "colab": {
          "base_uri": "https://localhost:8080/",
          "height": 206
        },
        "id": "7DPDzwALV9bD",
        "outputId": "6ea54776-9166-4cb7-f1ae-264014963f0c"
      },
      "execution_count": null,
      "outputs": [
        {
          "output_type": "execute_result",
          "data": {
            "text/html": [
              "<div>\n",
              "<style scoped>\n",
              "    .dataframe tbody tr th:only-of-type {\n",
              "        vertical-align: middle;\n",
              "    }\n",
              "\n",
              "    .dataframe tbody tr th {\n",
              "        vertical-align: top;\n",
              "    }\n",
              "\n",
              "    .dataframe thead th {\n",
              "        text-align: right;\n",
              "    }\n",
              "</style>\n",
              "<table border=\"1\" class=\"dataframe\">\n",
              "  <thead>\n",
              "    <tr style=\"text-align: right;\">\n",
              "      <th></th>\n",
              "      <th>Bloco Econômico</th>\n",
              "      <th>Região Geográfica</th>\n",
              "      <th>País</th>\n",
              "      <th>Produção em mil barris/dia</th>\n",
              "      <th>Ano</th>\n",
              "      <th>Produção em barris/dia</th>\n",
              "    </tr>\n",
              "  </thead>\n",
              "  <tbody>\n",
              "    <tr>\n",
              "      <th>0</th>\n",
              "      <td>NÃO OPEP</td>\n",
              "      <td>América do Norte</td>\n",
              "      <td>Canadá</td>\n",
              "      <td>3456.81</td>\n",
              "      <td>2010</td>\n",
              "      <td>3456807.61</td>\n",
              "    </tr>\n",
              "    <tr>\n",
              "      <th>1</th>\n",
              "      <td>NÃO OPEP</td>\n",
              "      <td>América do Norte</td>\n",
              "      <td>Estados Unidos</td>\n",
              "      <td>7558.37</td>\n",
              "      <td>2010</td>\n",
              "      <td>7558367.11</td>\n",
              "    </tr>\n",
              "    <tr>\n",
              "      <th>2</th>\n",
              "      <td>NÃO OPEP</td>\n",
              "      <td>América do Norte</td>\n",
              "      <td>México</td>\n",
              "      <td>2959.37</td>\n",
              "      <td>2010</td>\n",
              "      <td>2959366.48</td>\n",
              "    </tr>\n",
              "    <tr>\n",
              "      <th>3</th>\n",
              "      <td>NÃO OPEP</td>\n",
              "      <td>Américas Central e do Sul</td>\n",
              "      <td>Argentina</td>\n",
              "      <td>711.84</td>\n",
              "      <td>2010</td>\n",
              "      <td>711840.09</td>\n",
              "    </tr>\n",
              "    <tr>\n",
              "      <th>4</th>\n",
              "      <td>NÃO OPEP</td>\n",
              "      <td>Américas Central e do Sul</td>\n",
              "      <td>Brasil</td>\n",
              "      <td>2125.05</td>\n",
              "      <td>2010</td>\n",
              "      <td>2125051.81</td>\n",
              "    </tr>\n",
              "  </tbody>\n",
              "</table>\n",
              "</div>"
            ],
            "text/plain": [
              "  Bloco Econômico          Região Geográfica  ...   Ano  Produção em barris/dia\n",
              "0        NÃO OPEP           América do Norte  ...  2010              3456807.61\n",
              "1        NÃO OPEP           América do Norte  ...  2010              7558367.11\n",
              "2        NÃO OPEP           América do Norte  ...  2010              2959366.48\n",
              "3        NÃO OPEP  Américas Central e do Sul  ...  2010               711840.09\n",
              "4        NÃO OPEP  Américas Central e do Sul  ...  2010              2125051.81\n",
              "\n",
              "[5 rows x 6 columns]"
            ]
          },
          "metadata": {},
          "execution_count": 170
        }
      ]
    },
    {
      "cell_type": "markdown",
      "source": [
        "### Ano"
      ],
      "metadata": {
        "id": "TtOfxFwaUuaB"
      }
    },
    {
      "cell_type": "markdown",
      "source": [
        "Ano de produção"
      ],
      "metadata": {
        "id": "5upztkrmUxye"
      }
    },
    {
      "cell_type": "code",
      "source": [
        "dados['Ano'].unique()"
      ],
      "metadata": {
        "colab": {
          "base_uri": "https://localhost:8080/"
        },
        "id": "KdAoZSCsbRoC",
        "outputId": "f09270dc-9f92-47de-9098-f6cdded8f434"
      },
      "execution_count": null,
      "outputs": [
        {
          "output_type": "execute_result",
          "data": {
            "text/plain": [
              "array([2010, 2011, 2012, 2013, 2014, 2015, 2016, 2017, 2018, 2019])"
            ]
          },
          "metadata": {},
          "execution_count": 171
        }
      ]
    },
    {
      "cell_type": "markdown",
      "source": [
        "O levantamento realizado corresponde à década de 2010 a 2019"
      ],
      "metadata": {
        "id": "X-63gd1obVq6"
      }
    },
    {
      "cell_type": "markdown",
      "source": [
        "***\n",
        "## <font color = green size = 6>Análise das Variáveis</font>\n",
        "***"
      ],
      "metadata": {
        "id": "w5ll3vStf8Gu"
      }
    },
    {
      "cell_type": "markdown",
      "source": [
        "### Bloco Econômico\n"
      ],
      "metadata": {
        "id": "kZCMvbrWgO2f"
      }
    },
    {
      "cell_type": "markdown",
      "source": [
        "Como vimos anteriormente, esta variável identifica a qual bloco econômico o país pertence (OPEP ou NÃO OPEP). \n",
        "\n",
        "A **OPEP – Organização dos países exportadores de petróleo** - é uma organização internacional criada em 1960 na Conferência de Bagdá que visa coordenar de maneira centralizada a política petrolífera dos países membros.\n",
        "\n",
        "Primeiramente vamos conhecer quais são os países que compõem esses blocos."
      ],
      "metadata": {
        "id": "WFwoEUa0geR6"
      }
    },
    {
      "cell_type": "markdown",
      "source": [
        "#### Países OPEP"
      ],
      "metadata": {
        "id": "y20uDPHf9kh6"
      }
    },
    {
      "cell_type": "code",
      "source": [
        "dados['Bloco Econômico'].unique()"
      ],
      "metadata": {
        "colab": {
          "base_uri": "https://localhost:8080/"
        },
        "id": "yMAlafL6UwIo",
        "outputId": "a4f3148c-1761-45ef-d7a1-4c896524551e"
      },
      "execution_count": null,
      "outputs": [
        {
          "output_type": "execute_result",
          "data": {
            "text/plain": [
              "array(['NÃO OPEP', 'OPEP'], dtype=object)"
            ]
          },
          "metadata": {},
          "execution_count": 172
        }
      ]
    },
    {
      "cell_type": "code",
      "source": [
        "opep = ['OPEP']"
      ],
      "metadata": {
        "id": "L--R5L33hF79"
      },
      "execution_count": null,
      "outputs": []
    },
    {
      "cell_type": "code",
      "source": [
        "dados['Bloco Econômico'].isin(opep).head(10)"
      ],
      "metadata": {
        "colab": {
          "base_uri": "https://localhost:8080/"
        },
        "id": "9jGjVHpGhHSH",
        "outputId": "70999614-79d9-4fa0-cd39-83eb99dce948"
      },
      "execution_count": null,
      "outputs": [
        {
          "output_type": "execute_result",
          "data": {
            "text/plain": [
              "0    False\n",
              "1    False\n",
              "2    False\n",
              "3    False\n",
              "4    False\n",
              "5    False\n",
              "6     True\n",
              "7    False\n",
              "8    False\n",
              "9     True\n",
              "Name: Bloco Econômico, dtype: bool"
            ]
          },
          "metadata": {},
          "execution_count": 174
        }
      ]
    },
    {
      "cell_type": "code",
      "source": [
        "select = dados['Bloco Econômico'].isin(opep)"
      ],
      "metadata": {
        "id": "3k8H7c64h8C9"
      },
      "execution_count": null,
      "outputs": []
    },
    {
      "cell_type": "code",
      "source": [
        "dados_opep = dados[select]"
      ],
      "metadata": {
        "id": "F3m55TxtiLpc"
      },
      "execution_count": null,
      "outputs": []
    },
    {
      "cell_type": "code",
      "source": [
        "dados_opep = pd.DataFrame(dados_opep['País'])\n",
        "dados_opep.index = range(dados_opep.shape[0])\n",
        "dados_opep = dados_opep.drop_duplicates()\n",
        "dados_opep"
      ],
      "metadata": {
        "colab": {
          "base_uri": "https://localhost:8080/",
          "height": 488
        },
        "id": "bcFTU8K8iK3_",
        "outputId": "f90da1a5-914c-43db-e488-cf13ee104c85"
      },
      "execution_count": null,
      "outputs": [
        {
          "output_type": "execute_result",
          "data": {
            "text/html": [
              "<div>\n",
              "<style scoped>\n",
              "    .dataframe tbody tr th:only-of-type {\n",
              "        vertical-align: middle;\n",
              "    }\n",
              "\n",
              "    .dataframe tbody tr th {\n",
              "        vertical-align: top;\n",
              "    }\n",
              "\n",
              "    .dataframe thead th {\n",
              "        text-align: right;\n",
              "    }\n",
              "</style>\n",
              "<table border=\"1\" class=\"dataframe\">\n",
              "  <thead>\n",
              "    <tr style=\"text-align: right;\">\n",
              "      <th></th>\n",
              "      <th>País</th>\n",
              "    </tr>\n",
              "  </thead>\n",
              "  <tbody>\n",
              "    <tr>\n",
              "      <th>0</th>\n",
              "      <td>Equador</td>\n",
              "    </tr>\n",
              "    <tr>\n",
              "      <th>1</th>\n",
              "      <td>Venezuela</td>\n",
              "    </tr>\n",
              "    <tr>\n",
              "      <th>2</th>\n",
              "      <td>Arábia Saudita</td>\n",
              "    </tr>\n",
              "    <tr>\n",
              "      <th>3</th>\n",
              "      <td>Coveite</td>\n",
              "    </tr>\n",
              "    <tr>\n",
              "      <th>4</th>\n",
              "      <td>Emirados Árabes Unidos</td>\n",
              "    </tr>\n",
              "    <tr>\n",
              "      <th>5</th>\n",
              "      <td>Irã</td>\n",
              "    </tr>\n",
              "    <tr>\n",
              "      <th>6</th>\n",
              "      <td>Iraque</td>\n",
              "    </tr>\n",
              "    <tr>\n",
              "      <th>7</th>\n",
              "      <td>Argélia</td>\n",
              "    </tr>\n",
              "    <tr>\n",
              "      <th>8</th>\n",
              "      <td>Angola</td>\n",
              "    </tr>\n",
              "    <tr>\n",
              "      <th>9</th>\n",
              "      <td>Congo</td>\n",
              "    </tr>\n",
              "    <tr>\n",
              "      <th>10</th>\n",
              "      <td>Gabão</td>\n",
              "    </tr>\n",
              "    <tr>\n",
              "      <th>11</th>\n",
              "      <td>Guiné-Equatorial</td>\n",
              "    </tr>\n",
              "    <tr>\n",
              "      <th>12</th>\n",
              "      <td>Líbia</td>\n",
              "    </tr>\n",
              "    <tr>\n",
              "      <th>13</th>\n",
              "      <td>Nigéria</td>\n",
              "    </tr>\n",
              "  </tbody>\n",
              "</table>\n",
              "</div>"
            ],
            "text/plain": [
              "                      País\n",
              "0                  Equador\n",
              "1                Venezuela\n",
              "2           Arábia Saudita\n",
              "3                  Coveite\n",
              "4   Emirados Árabes Unidos\n",
              "5                      Irã\n",
              "6                   Iraque\n",
              "7                  Argélia\n",
              "8                   Angola\n",
              "9                   Congo \n",
              "10                   Gabão\n",
              "11        Guiné-Equatorial\n",
              "12                   Líbia\n",
              "13                 Nigéria"
            ]
          },
          "metadata": {},
          "execution_count": 183
        }
      ]
    },
    {
      "cell_type": "markdown",
      "source": [
        "#### Países Não OPEP"
      ],
      "metadata": {
        "id": "nrbmi6qm9vTN"
      }
    },
    {
      "cell_type": "markdown",
      "source": [
        "Para conhecer os países que não participam da Organização dos Países Exportadores de Petróleo invertemos a seleção."
      ],
      "metadata": {
        "id": "QkWi_RsbolF5"
      }
    },
    {
      "cell_type": "code",
      "source": [
        "dados_nao_opep = dados[~select]"
      ],
      "metadata": {
        "id": "Kz4ddSndoB3j"
      },
      "execution_count": null,
      "outputs": []
    },
    {
      "cell_type": "code",
      "source": [
        "dados_nao_opep = pd.DataFrame(dados_nao_opep['País'])\n",
        "dados_nao_opep.index = range(dados_nao_opep.shape[0])\n",
        "dados_nao_opep = dados_nao_opep.drop_duplicates()\n",
        "dados_nao_opep"
      ],
      "metadata": {
        "colab": {
          "base_uri": "https://localhost:8080/",
          "height": 1000
        },
        "id": "ddUS8-HTojvG",
        "outputId": "d521fa5f-59da-448d-af0e-b96e582e4a43"
      },
      "execution_count": null,
      "outputs": [
        {
          "output_type": "execute_result",
          "data": {
            "text/html": [
              "<div>\n",
              "<style scoped>\n",
              "    .dataframe tbody tr th:only-of-type {\n",
              "        vertical-align: middle;\n",
              "    }\n",
              "\n",
              "    .dataframe tbody tr th {\n",
              "        vertical-align: top;\n",
              "    }\n",
              "\n",
              "    .dataframe thead th {\n",
              "        text-align: right;\n",
              "    }\n",
              "</style>\n",
              "<table border=\"1\" class=\"dataframe\">\n",
              "  <thead>\n",
              "    <tr style=\"text-align: right;\">\n",
              "      <th></th>\n",
              "      <th>País</th>\n",
              "    </tr>\n",
              "  </thead>\n",
              "  <tbody>\n",
              "    <tr>\n",
              "      <th>0</th>\n",
              "      <td>Canadá</td>\n",
              "    </tr>\n",
              "    <tr>\n",
              "      <th>1</th>\n",
              "      <td>Estados Unidos</td>\n",
              "    </tr>\n",
              "    <tr>\n",
              "      <th>2</th>\n",
              "      <td>México</td>\n",
              "    </tr>\n",
              "    <tr>\n",
              "      <th>3</th>\n",
              "      <td>Argentina</td>\n",
              "    </tr>\n",
              "    <tr>\n",
              "      <th>4</th>\n",
              "      <td>Brasil</td>\n",
              "    </tr>\n",
              "    <tr>\n",
              "      <th>5</th>\n",
              "      <td>Colômbia</td>\n",
              "    </tr>\n",
              "    <tr>\n",
              "      <th>6</th>\n",
              "      <td>Peru</td>\n",
              "    </tr>\n",
              "    <tr>\n",
              "      <th>7</th>\n",
              "      <td>Trinidad e Tobago</td>\n",
              "    </tr>\n",
              "    <tr>\n",
              "      <th>8</th>\n",
              "      <td>Outros</td>\n",
              "    </tr>\n",
              "    <tr>\n",
              "      <th>9</th>\n",
              "      <td>Dinamarca</td>\n",
              "    </tr>\n",
              "    <tr>\n",
              "      <th>10</th>\n",
              "      <td>Itália</td>\n",
              "    </tr>\n",
              "    <tr>\n",
              "      <th>11</th>\n",
              "      <td>Noruega</td>\n",
              "    </tr>\n",
              "    <tr>\n",
              "      <th>12</th>\n",
              "      <td>Reino Unido</td>\n",
              "    </tr>\n",
              "    <tr>\n",
              "      <th>13</th>\n",
              "      <td>Romênia</td>\n",
              "    </tr>\n",
              "    <tr>\n",
              "      <th>14</th>\n",
              "      <td>Azerbaijão</td>\n",
              "    </tr>\n",
              "    <tr>\n",
              "      <th>15</th>\n",
              "      <td>Cazaquistão</td>\n",
              "    </tr>\n",
              "    <tr>\n",
              "      <th>16</th>\n",
              "      <td>Rússia</td>\n",
              "    </tr>\n",
              "    <tr>\n",
              "      <th>17</th>\n",
              "      <td>Turcomenistão</td>\n",
              "    </tr>\n",
              "    <tr>\n",
              "      <th>18</th>\n",
              "      <td>Uzbequistão</td>\n",
              "    </tr>\n",
              "    <tr>\n",
              "      <th>19</th>\n",
              "      <td>Catar</td>\n",
              "    </tr>\n",
              "    <tr>\n",
              "      <th>20</th>\n",
              "      <td>Iêmen</td>\n",
              "    </tr>\n",
              "    <tr>\n",
              "      <th>21</th>\n",
              "      <td>Omã</td>\n",
              "    </tr>\n",
              "    <tr>\n",
              "      <th>22</th>\n",
              "      <td>Síria</td>\n",
              "    </tr>\n",
              "    <tr>\n",
              "      <th>23</th>\n",
              "      <td>Chade</td>\n",
              "    </tr>\n",
              "    <tr>\n",
              "      <th>24</th>\n",
              "      <td>Egito</td>\n",
              "    </tr>\n",
              "    <tr>\n",
              "      <th>25</th>\n",
              "      <td>Sudão</td>\n",
              "    </tr>\n",
              "    <tr>\n",
              "      <th>26</th>\n",
              "      <td>Sudão do Sul</td>\n",
              "    </tr>\n",
              "    <tr>\n",
              "      <th>27</th>\n",
              "      <td>Tunísia</td>\n",
              "    </tr>\n",
              "    <tr>\n",
              "      <th>28</th>\n",
              "      <td>Austrália</td>\n",
              "    </tr>\n",
              "    <tr>\n",
              "      <th>29</th>\n",
              "      <td>Brunei</td>\n",
              "    </tr>\n",
              "    <tr>\n",
              "      <th>30</th>\n",
              "      <td>China</td>\n",
              "    </tr>\n",
              "    <tr>\n",
              "      <th>31</th>\n",
              "      <td>Índia</td>\n",
              "    </tr>\n",
              "    <tr>\n",
              "      <th>32</th>\n",
              "      <td>Indonésia</td>\n",
              "    </tr>\n",
              "    <tr>\n",
              "      <th>33</th>\n",
              "      <td>Malásia</td>\n",
              "    </tr>\n",
              "    <tr>\n",
              "      <th>34</th>\n",
              "      <td>Tailândia</td>\n",
              "    </tr>\n",
              "    <tr>\n",
              "      <th>35</th>\n",
              "      <td>Vietnã</td>\n",
              "    </tr>\n",
              "  </tbody>\n",
              "</table>\n",
              "</div>"
            ],
            "text/plain": [
              "                 País\n",
              "0              Canadá\n",
              "1      Estados Unidos\n",
              "2              México\n",
              "3           Argentina\n",
              "4              Brasil\n",
              "5            Colômbia\n",
              "6                Peru\n",
              "7   Trinidad e Tobago\n",
              "8              Outros\n",
              "9           Dinamarca\n",
              "10             Itália\n",
              "11            Noruega\n",
              "12        Reino Unido\n",
              "13            Romênia\n",
              "14         Azerbaijão\n",
              "15        Cazaquistão\n",
              "16             Rússia\n",
              "17      Turcomenistão\n",
              "18        Uzbequistão\n",
              "19              Catar\n",
              "20              Iêmen\n",
              "21                Omã\n",
              "22              Síria\n",
              "23              Chade\n",
              "24              Egito\n",
              "25              Sudão\n",
              "26       Sudão do Sul\n",
              "27            Tunísia\n",
              "28          Austrália\n",
              "29             Brunei\n",
              "30              China\n",
              "31              Índia\n",
              "32          Indonésia\n",
              "33            Malásia\n",
              "34          Tailândia\n",
              "35             Vietnã"
            ]
          },
          "metadata": {},
          "execution_count": 186
        }
      ]
    },
    {
      "cell_type": "code",
      "source": [
        ""
      ],
      "metadata": {
        "id": "xptLI1Nso2iL"
      },
      "execution_count": null,
      "outputs": []
    }
  ]
}