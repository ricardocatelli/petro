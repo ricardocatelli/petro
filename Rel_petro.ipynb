{
  "nbformat": 4,
  "nbformat_minor": 0,
  "metadata": {
    "colab": {
      "name": "Rel_petro.ipynb",
      "provenance": [],
      "include_colab_link": true
    },
    "kernelspec": {
      "name": "python3",
      "display_name": "Python 3"
    },
    "language_info": {
      "name": "python"
    }
  },
  "cells": [
    {
      "cell_type": "markdown",
      "metadata": {
        "id": "view-in-github",
        "colab_type": "text"
      },
      "source": [
        "<a href=\"https://colab.research.google.com/github/ricardocatelli/petro/blob/main/Rel_petro.ipynb\" target=\"_parent\"><img src=\"https://colab.research.google.com/assets/colab-badge.svg\" alt=\"Open In Colab\"/></a>"
      ]
    },
    {
      "cell_type": "markdown",
      "source": [
        "# Agência Nacional do Petróleo, Gás Natural e Biocombustíveis - ANP"
      ],
      "metadata": {
        "id": "rwReHmtDKe0Z"
      }
    },
    {
      "cell_type": "markdown",
      "source": [
        "ANP é um centro de referência em dados e informações sobre a indústria de petróleo e gás natural:\n",
        "\n",
        "- mantém o Banco de Dados de Exploração e Produção (BDEP);\n",
        "- promove estudos sobre o potencial petrolífero e o desenvolvimento do setor;\n",
        "- recebe e torna públicas as notificações de descobertas;\n",
        "- divulga as estatísticas oficiais sobre reservas, refino e produção de petróleo, gás e biocombustíveis no Brasil.\n",
        "\n",
        "Também realiza e divulga rotineiramente pesquisas sobre qualidade dos combustíveis e lubrificantes e sobre o comportamento dos preços desses produtos. Consolida e divulga informações sobre os mercados regulados e acerca dos investimentos em pesquisa, inovação e formação profissional voltadas para os setores regulados."
      ],
      "metadata": {
        "id": "OSL8mv1JKl-m"
      }
    },
    {
      "cell_type": "code",
      "execution_count": 1,
      "metadata": {
        "id": "20UANc46GgWg",
        "colab": {
          "base_uri": "https://localhost:8080/"
        },
        "outputId": "5f39fc15-9ed5-4795-9a0d-e1d7613209f0"
      },
      "outputs": [
        {
          "output_type": "stream",
          "name": "stdout",
          "text": [
            "olá\n"
          ]
        }
      ],
      "source": [
        "import pandas  as pd\n",
        "import numpy   as np\n",
        "import seaborn as sn"
      ]
    }
  ]
}